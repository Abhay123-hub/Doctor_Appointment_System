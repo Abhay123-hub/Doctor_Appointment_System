{
 "cells": [
  {
   "cell_type": "code",
   "execution_count": 1,
   "id": "60a32802",
   "metadata": {},
   "outputs": [],
   "source": [
    "## importing the main packages and libraries\n",
    "import pandas as pd\n",
    "import numpy as np\n",
    "from langchain_openai import ChatOpenAI\n",
    "from dotenv import load_dotenv\n",
    "from langgraph.graph import START,END,StateGraph\n",
    "from langgraph.graph.message import add_messages\n",
    "from typing_extensions import TypedDict,Annotated\n",
    "from langchain_core.prompts import ChatPromptTemplate\n",
    "from langgraph.prebuilt import create_react_agent\n",
    "from langchain_core.messages import HumanMessage,AIMessage\n",
    "from langgraph.types import Command\n",
    "from langchain_core.tools import tool\n",
    "from pydantic import BaseModel,Field,field_validator"
   ]
  },
  {
   "cell_type": "code",
   "execution_count": 2,
   "id": "084162d1",
   "metadata": {},
   "outputs": [],
   "source": [
    "import os\n",
    "load_dotenv()\n",
    "api_key = os.environ[\"OPENAI_API_KEY\"]"
   ]
  },
  {
   "cell_type": "code",
   "execution_count": 3,
   "id": "aaa419a0",
   "metadata": {},
   "outputs": [],
   "source": [
    "## loading my llm into my system\n",
    "llm = ChatOpenAI(model=\"gpt-4\",api_key = api_key)"
   ]
  },
  {
   "cell_type": "code",
   "execution_count": 4,
   "id": "027bfb71",
   "metadata": {},
   "outputs": [
    {
     "data": {
      "text/plain": [
       "'Machine Learning is a subset of artificial intelligence (AI) that provides systems the ability to automatically learn and improve from experience without being explicitly programmed. It focuses on the development of computer programs that can access data and use it to learn for themselves. The process of learning begins with observations or data, such as examples, direct experience, or instruction, in order to look for patterns in data and make better decisions in the future.\\n\\nData Science is an interdisciplinary field that uses scientific methods, processes, algorithms, and systems to extract knowledge and insights from structured and unstructured data. It involves various fields such as statistics, machine learning, data analysis with the goal to derive insights from data in various forms. It also involves techniques and theories drawn from many fields within the context of mathematics, statistics, computer science, and information science. Data scientists use their skills in both technology and social science to find trends and manage data. They use industry knowledge, contextual understanding, and skepticism of existing assumptions to uncover solutions to business challenges.'"
      ]
     },
     "execution_count": 4,
     "metadata": {},
     "output_type": "execute_result"
    }
   ],
   "source": [
    "## testing my llm\n",
    "llm.invoke(\"what is machine learning and Data Science\").content ## my llm is working fine"
   ]
  },
  {
   "cell_type": "code",
   "execution_count": 5,
   "id": "d29293a7",
   "metadata": {},
   "outputs": [],
   "source": [
    "## now first we will check either the date/time provided by the pateint is in correct format or not\n",
    "## if the date/time is in correct format then we will proceed next \n",
    "## if not then we will throw the error saying that date/time provided by you is not in correct format ,put it in this particular format\n"
   ]
  },
  {
   "cell_type": "code",
   "execution_count": 6,
   "id": "fe81b7f2",
   "metadata": {},
   "outputs": [],
   "source": [
    "import re\n",
    "class DateTimeModel(BaseModel):\n",
    "    date:str = Field(description=\"properly fomatted date\",pattern = r'^\\d{2}-\\d{2}-\\d{4} \\d{2}:\\d{2}$')\n",
    "\n",
    "    @field_validator(\"date\")\n",
    "    def date_validator(cls,value):\n",
    "        if not re.match(r'^\\d{2}-\\d{2}-\\d{4} \\d{2}:\\d{2}$',value):\n",
    "            raise ValueError(f\"Date must me in correct format 'DD-MM-YYYY HH:MM':{value}\")\n",
    "        else:\n",
    "            return value"
   ]
  },
  {
   "cell_type": "code",
   "execution_count": 7,
   "id": "f087e961",
   "metadata": {},
   "outputs": [],
   "source": [
    "import re\n",
    "class DateModel(BaseModel):\n",
    "    date:str = Field(description=\"properly formatted date\",pattern = r'^\\d{2}-\\d{2}-\\d{4}$')\n",
    "    @field_validator(\"date\")\n",
    "    def date_validator(cls,value):\n",
    "        if not re.match(r'^\\d{2}-\\d{2}-\\d{4}',value):\n",
    "            raise ValueError(f\"Date must be in correct format 'DD-MM-YYYY':{value}\")\n",
    "        else:\n",
    "            return value"
   ]
  },
  {
   "cell_type": "code",
   "execution_count": 8,
   "id": "94a51197",
   "metadata": {},
   "outputs": [],
   "source": [
    "## class for checking either the unique number provided by the patient is correct or not\n",
    "class UniqueIdentificationNumber(BaseModel):\n",
    "    id:int = Field(description = \"a unique number withe 7 or 8 digits\")\n",
    "    @field_validator(\"id\")\n",
    "    def id_validator(cls,value):\n",
    "        if not re.match(r'^\\d{7,8}$',str(value)):\n",
    "            raise ValueError(\"The value must be of 7 or 8 digits\")\n",
    "        return value"
   ]
  },
  {
   "cell_type": "code",
   "execution_count": 9,
   "id": "9cfd8a7d",
   "metadata": {},
   "outputs": [],
   "source": [
    "## loading my data frame ,from where i will extract the information\n",
    "import pandas as pd\n",
    "df = pd.read_csv(r\"D:\\Doctor_Appointment_System\\data\\doctor_availability.csv\")"
   ]
  },
  {
   "cell_type": "code",
   "execution_count": 10,
   "id": "a3f50438",
   "metadata": {},
   "outputs": [],
   "source": [
    "## now we are going to define a function which will check the availibilty by doctor\n",
    "from typing import Literal\n",
    "@tool\n",
    "def check_availibility_by_doctor(desired_date:DateModel,doctor_name:Literal['kevin anderson','robert martinez','susan davis','daniel miller','sarah wilson','michael green','lisa brown','jane smith','emily johnson','john doe']):\n",
    "    \"checking the availibilty of doctor based on date and doctor name\"\n",
    "    df[\"date_slot_time\"] = df[\"date_slot\"].apply(lambda x:x.split(' ')[-1])\n",
    "    \n",
    "    rows = list(df[(df[\"date_slot\"].apply(lambda x:x.split(' ')[0])==desired_date.date)&(df[\"doctor_name\"]==doctor_name)&(df[\"is_available\"]==True)][\"date_slot_time\"])\n",
    "\n",
    "    if len(rows) == 0:\n",
    "        output = \"No available slots\"\n",
    "    else:\n",
    "\n",
    "        output = f\"\"\" for the given date {desired_date.date} and desired doctor {doctor_name} These are the available slots\\n\n",
    "                    {' '.join(rows)}\n",
    "                    \"\"\"\n",
    "        return output\n",
    "    \n"
   ]
  },
  {
   "cell_type": "code",
   "execution_count": 11,
   "id": "fbf27d19",
   "metadata": {},
   "outputs": [],
   "source": [
    "## creating a function which will extract information from the dataframe based on the desired date and specialization\n",
    "@tool\n",
    "def check_availibility_by_specialization(desired_date:DateModel,specialization:Literal[\"general_dentist\", \"cosmetic_dentist\", \"prosthodontist\", \"pediatric_dentist\",\"emergency_dentist\",\"oral_surgeon\",\"orthodontist\"]):\n",
    "    \"This tool will help to extract information from the dateframe on base of desired date and specialization\"\n",
    "\n",
    "    df[\"date_slot_time\"] = df[\"date_slot\"].apply(lambda x:x.split(\" \")[1])\n",
    "\n",
    "    rows = df[(df[\"date_slot\"].apply(lambda x:x.split(\" \")[0])==desired_date.date)&(df[\"specialization\"]==specialization)&(df[\"is_available\"]==True)].groupby([\"specialization\",\"doctor_name\"])[\"date_slot_time\"].apply(list).reset_index(name = \"available_slots\")\n",
    "\n",
    "    if len(rows) == 0:\n",
    "        output = \"No available slots\"\n",
    "        return output\n",
    "    def value_to_am_pm(value):\n",
    "        ## value = 14:30 ,just example\n",
    "        hours,minutes = map(int,value.split(\":\")) ## [14,30]\n",
    "        if hours>=12:\n",
    "            period = \"PM\"\n",
    "        else:\n",
    "            period = \"AM\"\n",
    "        hours = hours%12 or hours\n",
    "        return f\"{hours}:{minutes:02d} {period}\"\n",
    "    output = \"\"\n",
    "    for row in rows.values:\n",
    "        value = f\"The doctor {row[1]} is available at this slots {' '.join([value_to_am_pm(value) for value in row[2]])}\\n\\n\"\n",
    "        output = output+value\n",
    "    return output\n",
    "    \n",
    "    "
   ]
  },
  {
   "cell_type": "code",
   "execution_count": 12,
   "id": "b958cc05",
   "metadata": {},
   "outputs": [],
   "source": [
    "@tool\n",
    "def cancel_appointment(date:DateTimeModel,id_number:UniqueIdentificationNumber,doctor_name:Literal['kevin anderson','robert martinez','susan davis','daniel miller','sarah wilson','michael green','lisa brown','jane smith','emily johnson','john doe']):\n",
    "    \"This function is just for cancelling the appointment of the doctor\"\n",
    "   \n",
    "    rows = df[(df[\"date_slot\"] == date.date)&(df[\"patient_to_attend\"]==id_number.id)&(df[\"doctor_name\"]==doctor_name)]\n",
    "    if len(rows) == 0:\n",
    "        output = \"There are no available bookings\"\n",
    "        return output\n",
    "    else:\n",
    "        df.loc[(df[\"date_slot\"]== date.date)&(df[\"patient_to_attend\"]==id_number.id)&(df[\"doctor_name\"]==doctor_name),[\"is_available\",\"patient_to_attend\"]] = [[True,None]]\n",
    "        df.to_csv(r\"D:\\Doctor_Appointment_System\\data\\doctor_availability.csv\",index=False)\n",
    "        return \"Successfully cancelled\""
   ]
  },
  {
   "cell_type": "code",
   "execution_count": 13,
   "id": "e50673d7",
   "metadata": {},
   "outputs": [],
   "source": [
    "## now i will be writting the function for setting the appointment with the doctor\n",
    "@tool\n",
    "def set_appointment(desired_date:DateTimeModel,id_number:UniqueIdentificationNumber,doctor_name:Literal['kevin anderson','robert martinez','susan davis','daniel miller','sarah wilson','michael green','lisa brown','jane smith','emily johnson','john doe']):\n",
    "    \"tool for setting the appointment with the doctor\"\n",
    "    value = df[(df[\"date_slot\"]==desired_date.date)&(df[\"is_available\"]==True)&(df[\"doctor_name\"]==doctor_name)]\n",
    "    if len(value) ==0:\n",
    "        return \"There is no availibility of doctor at this time\"\n",
    "    else:\n",
    "      df.loc[(df[\"date_slot\"]==desired_date.date)&(df[\"is_available\"]==True)&(df[\"doctor_name\"]==doctor_name),[\"is_available\",\"patient_to_attend\"]] = [[False,id_number.id]]\n",
    "      df.to_csv(r\"D:\\Doctor_Appointment_System\\data\\doctor_availability.csv\",index=False)\n",
    "      return \"The appointment set successfully\"\n",
    "    "
   ]
  },
  {
   "cell_type": "code",
   "execution_count": 14,
   "id": "844a7db9",
   "metadata": {},
   "outputs": [],
   "source": [
    "## now i will be writting the function for rescheduling the appointment\n",
    "@tool\n",
    "def reschedule_appointment(old_date:DateTimeModel,new_date:DateTimeModel,id_number:UniqueIdentificationNumber,doctor_name:Literal['kevin anderson','robert martinez','susan davis','daniel miller','sarah wilson','michael green','lisa brown','jane smith','emily johnson','john doe']):\n",
    "    \"tool for rescheduling the appointment with the doctor\"\n",
    "    rows = df[(df[\"date_slot\"]==new_date.date)&(df[\"doctor_name\"]==doctor_name)&(df[\"is_available\"]==True)]\n",
    "    if len(rows) ==0:\n",
    "        return \"there is no availibilty of doctors at this time\"\n",
    "    else:\n",
    "        cancel_appointment.invoke({\"date\":old_date,\"id_number\":id_number,\"doctor_name\":doctor_name})\n",
    "        set_appointment.invoke({\"desired_date\":new_date,\"id_number\":id_number,\"doctor_name\":doctor_name})\n",
    "        return \"Successfully rescheduled for the desired time\""
   ]
  },
  {
   "cell_type": "code",
   "execution_count": 56,
   "id": "5bda5ba3",
   "metadata": {},
   "outputs": [
    {
     "data": {
      "text/plain": [
       "langchain_core.tools.structured.StructuredTool"
      ]
     },
     "execution_count": 56,
     "metadata": {},
     "output_type": "execute_result"
    }
   ],
   "source": [
    "type(reschedule_appointment)"
   ]
  },
  {
   "cell_type": "code",
   "execution_count": 15,
   "id": "c1ce0b6b",
   "metadata": {},
   "outputs": [
    {
     "name": "stderr",
     "output_type": "stream",
     "text": [
      "d:\\Doctor_Appointment_System\\venv\\lib\\site-packages\\langchain_openai\\chat_models\\base.py:1669: UserWarning: Cannot use method='json_schema' with model gpt-4 since it doesn't support OpenAI's Structured Output API. You can see supported models here: https://platform.openai.com/docs/guides/structured-outputs#supported-models. To fix this warning, set `method='function_calling'. Overriding to method='function_calling'.\n",
      "  warnings.warn(\n"
     ]
    }
   ],
   "source": [
    "system_prompt = \"\"\"\n",
    "You are a supervisor agent. You will be provided a question. Based on the question, you need to determine whether it belongs to:\n",
    "- Information fetching\n",
    "- Booking/canceling/rescheduling\n",
    "\n",
    "Return:\n",
    "- \"information\" for info-related queries\n",
    "- \"booking\" for booking/canceling/rescheduling\n",
    "- \"end\" if it doesn’t fit either category\n",
    "\n",
    "Only return one of these three words: information, booking, end.\n",
    "\n",
    "Examples:\n",
    "- \"When is doctor John Doe available on 25-06-2024?\" → information\n",
    "- \"I want to cancel my booking with doctor John Doe on 26-06-2024 20:00\" → booking\n",
    "- \"I want to reschedule my booking to 27-06-2024 12:00\" → booking\n",
    "\"\"\"\n",
    "\n",
    "\n",
    "class question_check(BaseModel):\n",
    "    response:str = Field(description = \"question belongs to information or booking or nothing\")\n",
    "prompt = ChatPromptTemplate.from_messages(\n",
    "    [(\"system\",system_prompt),\n",
    "      (\"human\",\"{question}\")]\n",
    ")\n",
    "question_checker = prompt | llm.with_structured_output(question_check)"
   ]
  },
  {
   "cell_type": "code",
   "execution_count": 16,
   "id": "ebda00cb",
   "metadata": {},
   "outputs": [],
   "source": [
    "class AgentState(TypedDict):\n",
    "    question:str ## this will be the question asked by the user\n",
    "    user_id:int\n",
    "    next:str ## based on the user question we will find know either this user question belongs to information_node or booking_node\\\n",
    "    information_respond:str ## it will tell to which category the information based question belongs to like by_doctor or by_specialization\n",
    "    booking_respond:str ## it will tell you to which category the booking based question belongs to that is setting or cancelling or rescheduling\n",
    "    data:str\n",
    "    final_response:str"
   ]
  },
  {
   "cell_type": "code",
   "execution_count": 17,
   "id": "2de72f77",
   "metadata": {},
   "outputs": [],
   "source": [
    "def Supervisor(State:AgentState):\n",
    "    question = State.get(\"question\",None)\n",
    "    if question == None:\n",
    "        raise Exception(\"The question not found in the supervisor\")\n",
    "    if question:\n",
    "        respond = question_checker.invoke({\"question\":question}).response\n",
    "    else:\n",
    "        raise Exception(\"User question is not given\")\n",
    "    return {\"question\":question,\"next\":respond}\n"
   ]
  },
  {
   "cell_type": "code",
   "execution_count": 18,
   "id": "8900876b",
   "metadata": {},
   "outputs": [
    {
     "data": {
      "text/plain": [
       "question_check(response='information')"
      ]
     },
     "execution_count": 18,
     "metadata": {},
     "output_type": "execute_result"
    }
   ],
   "source": [
    "question=\"is doctor john doe available on 07-08-2025\"\n",
    "respond = question_checker.invoke({\"question\":question})\n",
    "respond"
   ]
  },
  {
   "cell_type": "code",
   "execution_count": 19,
   "id": "25a4b2a7",
   "metadata": {},
   "outputs": [],
   "source": [
    "def router(state:AgentState):\n",
    "    next = state.get(\"next\",None)\n",
    "    if next == None:\n",
    "        raise Exception(\"next not found in router!\")\n",
    "    if next == \"information\":\n",
    "        return \"information\"\n",
    "    elif next == \"booking\":\n",
    "        return \"booking\"\n",
    "    else:\n",
    "        return \"end\"\n",
    "    "
   ]
  },
  {
   "cell_type": "code",
   "execution_count": 20,
   "id": "4ba89472",
   "metadata": {},
   "outputs": [],
   "source": [
    "## till here we came to know that either the question belons to booking_node or information_node\n",
    "## now inside information node we have two possibilites either information will be fetched out by availibility of doctor or by availability of specialist\n",
    "## and inside booking node we have three possibilites either question will be about setting or cancelling or booking the appointment"
   ]
  },
  {
   "cell_type": "code",
   "execution_count": 21,
   "id": "46c8676a",
   "metadata": {},
   "outputs": [],
   "source": [
    "## now i need to create different router if the question belogs to this sub category go to this or go to this\n",
    "## or i can do a simple thing by introducing the react agent\n",
    "## in react agent i will put both information_node sub category or booking_node three sub categories "
   ]
  },
  {
   "cell_type": "code",
   "execution_count": 22,
   "id": "42e445d3",
   "metadata": {},
   "outputs": [],
   "source": [
    "class information_node_class(BaseModel):\n",
    "    response:str = Field(description=\"To which category the question belongs to 'by_doctor','by_specialization, 'end'\")"
   ]
  },
  {
   "cell_type": "code",
   "execution_count": 23,
   "id": "e3e8206c",
   "metadata": {},
   "outputs": [],
   "source": [
    "def information_node(state:AgentState):\n",
    "    question = state.get(\"question\",None) ## now it is sure that this question belongs to information node\n",
    "    ## since for information fetching i have two tools available,first tool belongs to check availibility by doctor\n",
    "    ## and second tool belongs to check availibilty by specialization\n",
    "    ## now i need to check this question belongs to which type of tool\n",
    "    \n",
    "\n",
    "    if question == None:\n",
    "        raise Exception(\"question not found in information node\")\n",
    "    system_prompt = \"\"\" You are an intelligent and helpfull assistant.You will be provided  a question ,based on your knowledge you need to find out that \n",
    "    this question belongs to which category.There are two categories,in first category the question belongs to fetching information based on doctor and date.\n",
    "    examples of first category questions are :\n",
    "\n",
    "    on what slots doctor john deo  is available on 05-08-2025,\n",
    "    is doctor john doe available on 06-08-2025\n",
    "\n",
    "    if the question belongs to first category then return \"by_doctor\"\n",
    "\n",
    "    in second category question will be based on specialist,\n",
    "    for example:\n",
    "    give me slots of general dentist available on 05-08-2025\n",
    "\n",
    "    if the question belongs to second category then return \"by_specialization\"\n",
    "\n",
    "    is there any prosthodontist available on 08-08-2024.\n",
    "\n",
    "    if the question does not belong to any above category then return \"end\"\n",
    "\n",
    "                       \"\"\"\n",
    "\n",
    "    prompt = ChatPromptTemplate.from_messages(\n",
    "    [(\"system\",system_prompt),\n",
    "      (\"human\",\"{question}\")]\n",
    "     )\n",
    "\n",
    "    information_checker = prompt | llm.with_structured_output(information_node_class)\n",
    "\n",
    "    respond = information_checker.invoke({\"question\":question}).response\n",
    "\n",
    "    return {\"question\":question,\"information_respond\":respond}\n",
    "\n",
    "    "
   ]
  },
  {
   "cell_type": "code",
   "execution_count": 24,
   "id": "2469674d",
   "metadata": {},
   "outputs": [],
   "source": [
    "## after this i need to create the function which will be responsible for generating the responses based on by doctor\n",
    "## this function will know that the particular question belongs to by_doctor(information_node)\n",
    "## so i already have tool which can fetch the information based on doctor name and doctor date that is check_availibilty_by_doctor\n",
    "## what i can do i can combine this tool with llm giving some prompt "
   ]
  },
  {
   "cell_type": "code",
   "execution_count": 25,
   "id": "88e7ef10",
   "metadata": {},
   "outputs": [],
   "source": [
    "def router_information(state:AgentState):\n",
    "    information_respond = state.get(\"information_respond\",None)\n",
    "    if information_respond == None:\n",
    "        raise Exception(\"Information respond not found\")\n",
    "    if information_respond == \"by_doctor\":\n",
    "        return \"by_doctor\"\n",
    "    elif information_respond == \"by_specialization\":\n",
    "        return \"by_specialization\"\n",
    "    else:\n",
    "        return \"end\""
   ]
  },
  {
   "cell_type": "code",
   "execution_count": 26,
   "id": "cff9bf3d",
   "metadata": {},
   "outputs": [],
   "source": [
    "class get_doctor_date(BaseModel):\n",
    "    doctor_name:str = Field(description=\"doctor name\")\n",
    "    date:str = Field(descriptio= \"date \")"
   ]
  },
  {
   "cell_type": "code",
   "execution_count": 27,
   "id": "5ae9eeb1",
   "metadata": {},
   "outputs": [],
   "source": [
    "from langchain_core.output_parsers import StrOutputParser\n",
    "def information_node_by_doctor(state:AgentState):\n",
    "    question = state.get(\"question\",None)\n",
    "    if question == None:\n",
    "        raise Exception(\"the question not found in information node by doctor\")\n",
    "    ## from this question we need to fetch out the doctor name and date\n",
    "    prompt = \"\"\"You are a helpfull and intelligent system,you will be given a question such that you need to extract \n",
    "    doctor name and date from the question .\n",
    "    for example:\n",
    "     for this question \"what are the available slots of doctor john doe available on 07-08-2025\"\n",
    "        here doctor name is john doe and date is 07-08-2025.you will give doctor_name and date as output\"\"\"\n",
    "    \n",
    "    system_prompt = ChatPromptTemplate.from_messages(\n",
    "    [(\"system\",prompt),\n",
    "      (\"human\",\"{question}\")]\n",
    "     )\n",
    "    fetcher = system_prompt | llm.with_structured_output(get_doctor_date)\n",
    "    response = fetcher.invoke({\"question\":question})\n",
    "    doctor_name = response.doctor_name\n",
    "    date = response.date\n",
    "\n",
    "    ## for the check_availibilty_by_doctor i have doctor name and date in string format\n",
    "    ## i can put these both two values in this function and can retrieve the output\n",
    "    ## that output along with question will be sent to llm,so here we will be following the basic principle of RAG system\n",
    "\n",
    "    ## check_availibility_by_specialization.invoke({\"desired_date\": {\"date\":\"03-09-2024\"}, \"specialization\": \"general_dentist\"})\n",
    "    output = check_availibility_by_doctor.invoke({\"desired_date\":{\"date\":date},\"doctor_name\":doctor_name})\n",
    "\n",
    "    prompt_respond = \"\"\"You are a very intelligent and helpful assistant. \n",
    "You will be provided with a question and the data retrieved based on the question. \n",
    "You need to generate a response based on both the question and the data. \n",
    "First, understand both clearly, and then generate a concise and informative response.\"\"\"\n",
    "\n",
    "    system_prompt_2 = ChatPromptTemplate.from_messages([\n",
    "    (\"system\", prompt_respond),\n",
    "    (\"human\", \"Question: {question}\\nData: {data}\")\n",
    "    ] )\n",
    "\n",
    "    agent = system_prompt_2 | llm | StrOutputParser()\n",
    "    final_response = agent.invoke({\"question\": question, \"data\": output})\n",
    "\n",
    "    return {\"data\":output,\"final_response\": final_response}\n",
    "\n",
    "    "
   ]
  },
  {
   "cell_type": "code",
   "execution_count": 28,
   "id": "0c392787",
   "metadata": {},
   "outputs": [],
   "source": [
    "rows = check_availibility_by_doctor.invoke({\"desired_date\":{\"date\":\"05-08-2025\"},\"doctor_name\":\"john doe\"})"
   ]
  },
  {
   "cell_type": "code",
   "execution_count": 29,
   "id": "652e7e85",
   "metadata": {},
   "outputs": [
    {
     "data": {
      "text/plain": [
       "NoneType"
      ]
     },
     "execution_count": 29,
     "metadata": {},
     "output_type": "execute_result"
    }
   ],
   "source": [
    "type(rows)"
   ]
  },
  {
   "cell_type": "code",
   "execution_count": 30,
   "id": "d9f96738",
   "metadata": {},
   "outputs": [],
   "source": [
    "## same i will create the system for by_specailization\n",
    "## and the user question will go to this system if supervisor finds that the information question belongs to by_specialization\n",
    "class check_specialist_date(BaseModel):\n",
    "    specialist:str = Field(description=\"The particular specialist\")\n",
    "    date:str  = Field(description=\"The Date where particular specialist is available\")\n",
    "\n",
    "def information_node_by_specialist(state:AgentState):\n",
    "    question = state.get(\"question\",None)\n",
    "    if question == None:\n",
    "        raise Exception(\"The question not found in information node by specialist\")\n",
    "    ## from this question we need to fetch out the doctor name and date\n",
    "    prompt = \"\"\"You are a helpfull and intelligent system,you will be given a question such that you need to extract \n",
    "    specialist and date from the question .\n",
    "    for example:\n",
    "     for this question \"what are the available slots of general_dentist available on 07-08-2025\"\n",
    "        here specialist is general_dentist and date is 07-08-2025.you will give specialist and date as output\"\"\"\n",
    "    \n",
    "    system_prompt = ChatPromptTemplate.from_messages(\n",
    "    [(\"system\",prompt),\n",
    "      (\"human\",\"{question}\")]\n",
    "     )\n",
    "    fetcher = system_prompt | llm.with_structured_output(check_specialist_date)\n",
    "    response = fetcher.invoke({\"question\":question})\n",
    "    specialist = response.specialist\n",
    "    date = response.date\n",
    "\n",
    "    ## for the check_availibilty_by_doctor i have doctor name and date in string format\n",
    "    ## i can put these both two values in this function and can retrieve the output\n",
    "    ## that output along with question will be sent to llm,so here we will be following the basic principle of RAG system\n",
    "\n",
    "    ## check_availibility_by_specialization.invoke({\"desired_date\": {\"date\":\"03-09-2024\"}, \"specialization\": \"general_dentist\"})\n",
    "    output = check_availibility_by_specialization.invoke({\"desired_date\":{\"date\":date},'specialization':specialist})\n",
    "\n",
    "    prompt_respond = \"\"\"You are a very intelligent and helpful assistant. \n",
    "You will be provided with a question and the data retrieved based on the question. \n",
    "You need to generate a response based on both the question and the data. \n",
    "First, understand both clearly, and then generate a concise and informative response.\"\"\"\n",
    "\n",
    "    system_prompt_2 = ChatPromptTemplate.from_messages([\n",
    "    (\"system\", prompt_respond),\n",
    "    (\"human\", \"Question: {question}\\nData: {data}\")\n",
    "    ] )\n",
    "\n",
    "    agent = system_prompt_2 | llm | StrOutputParser()\n",
    "    final_response = agent.invoke({\"question\": question, \"data\": output})\n",
    "\n",
    "    return {\"data\":output,\"final_response\": final_response}"
   ]
  },
  {
   "cell_type": "code",
   "execution_count": 31,
   "id": "39d528f6",
   "metadata": {},
   "outputs": [],
   "source": [
    "## I am done with information part coding\n",
    "## now i will move to booking part coding"
   ]
  },
  {
   "cell_type": "code",
   "execution_count": 32,
   "id": "626ba0ea",
   "metadata": {},
   "outputs": [],
   "source": [
    "class booking_node_class(BaseModel):\n",
    "    response:str = Field(description=\"To which category the booking belongs to 'cancel_booking','set_booking', 'reschedule_booking','end' \")\n",
    "    "
   ]
  },
  {
   "cell_type": "code",
   "execution_count": 33,
   "id": "1a2619bf",
   "metadata": {},
   "outputs": [],
   "source": [
    "def booking_node(state:AgentState):\n",
    "    question = state.get(\"question\",None) ## now it is sure that this question belongs to booking node\n",
    "    if question == None:\n",
    "        raise Exception(\"The question not found on booking node\")\n",
    "\n",
    "    system_prompt = \"\"\" You are an intelligent and helpfull assistant.You will be provided  a question ,based on your knowledge you need to find out that \n",
    "    this question belongs to which category.There are three categories,in first category the question belongs to set the booking with doctor.\n",
    "    second category for cancelling the booking with the doctor\n",
    "    third category belong to rescheduling the booking \n",
    "\n",
    "    examples of first category questions are :\n",
    "\n",
    "    i want to set booking on 05-08-2025 13:00 with john doe , for this case return 'set_booking'\n",
    "\n",
    "\n",
    "\n",
    "    in second category question will be based on cancelling the booking with the doctor,\n",
    "    for example:\n",
    "    I want to cancle the booking with doctor john doe on 05-08-2025 14:00\n",
    "\n",
    "    if the question belongs to second category then return \"cancel_booking\"\n",
    "\n",
    "   third category belongs to rescheduling the booking with the doctor,for example\n",
    "   I want to reschedule booking with doctor on \"24-5-2024 08:00\" which was on \"23-5-2025 08:00\"\n",
    "\n",
    "   for this case return  \"reschedule_booking\"\n",
    "\n",
    "    if the question does not belong to any above category then return \"end\"\n",
    "\n",
    "                       \"\"\"\n",
    "\n",
    "    prompt = ChatPromptTemplate.from_messages(\n",
    "    [(\"system\",system_prompt),\n",
    "      (\"human\",\"{question}\")]\n",
    "     )\n",
    "\n",
    "    information_checker = prompt | llm.with_structured_output(booking_node_class)\n",
    "\n",
    "    respond = information_checker.invoke({\"question\":question}).response\n",
    "\n",
    "    return {\"question\":question,\"booking_respond\":respond}\n",
    "\n",
    "    "
   ]
  },
  {
   "cell_type": "code",
   "execution_count": 55,
   "id": "69311867",
   "metadata": {},
   "outputs": [
    {
     "data": {
      "text/plain": [
       "ChatOpenAI(client=<openai.resources.chat.completions.completions.Completions object at 0x00000245A535C6A0>, async_client=<openai.resources.chat.completions.completions.AsyncCompletions object at 0x00000245A57D32E0>, root_client=<openai.OpenAI object at 0x0000024592D58160>, root_async_client=<openai.AsyncOpenAI object at 0x00000245A535CEB0>, model_name='gpt-4', model_kwargs={}, openai_api_key=SecretStr('**********'))"
      ]
     },
     "execution_count": 55,
     "metadata": {},
     "output_type": "execute_result"
    }
   ],
   "source": [
    "llm"
   ]
  },
  {
   "cell_type": "code",
   "execution_count": 34,
   "id": "afc48fcc",
   "metadata": {},
   "outputs": [],
   "source": [
    "def router_booking(state:AgentState):\n",
    "    booking_respond = state.get('booking_respond',None)\n",
    "    if booking_respond == None:\n",
    "        raise Exception(\"booking_respond not found in router booking\")\n",
    "    if booking_respond == \"set_booking\":\n",
    "        return \"set_booking\"\n",
    "    elif booking_respond == \"cancel_booking\":\n",
    "        return \"cancel_booking\"\n",
    "    elif booking_respond == \"reschedule_booking\":\n",
    "        return \"reschedule_booking\"\n",
    "    elif booking_respond == \"end\":\n",
    "        return \"end\"\n",
    "    "
   ]
  },
  {
   "cell_type": "code",
   "execution_count": 35,
   "id": "9a0e78d7",
   "metadata": {},
   "outputs": [],
   "source": [
    "## now the question has been passed through the booking node and we know that either the question belongs to set ,cancel or rescheduling category\n",
    "## so let us take the first case where the user question belonge to set the booking with doctor\n",
    "## similarly we will also conider all other cases,first let us create the system for this case"
   ]
  },
  {
   "cell_type": "code",
   "execution_count": 36,
   "id": "e13e964b",
   "metadata": {},
   "outputs": [],
   "source": [
    "class booking_cancel(BaseModel): ## from the question we will be fetching doctor_name and date ,id from the state dict\n",
    "    doctor_name:str = Field(description=\"doctor name\")\n",
    "    date:str = Field(description= \"date \")"
   ]
  },
  {
   "cell_type": "code",
   "execution_count": null,
   "id": "e1400234",
   "metadata": {},
   "outputs": [],
   "source": [
    "def booking_node_for_cancel(state:AgentState):\n",
    "    question = state.get(\"question\",None)\n",
    "    if question == None:\n",
    "        raise Exception(\"The question not found in booking_node_for_cancel\")\n",
    "    user_id = state.get(\"user_id\",None)\n",
    "    if user_id == None:\n",
    "        raise Exception(\"The user_id not found in booking_node_for_cancel\")\n",
    "    \n",
    "    ## from this question we need to fetch out the doctor name and date\n",
    "    prompt = \"\"\"You are a helpfull and intelligent system,you will be given a question such that you need to extract \n",
    "    doctor name and date from the question .\n",
    "    for example:\n",
    "     for this question \"I want to cancle the booking with doctor john doe on 07-08-2025 12:00 \"\n",
    "        here doctor name is john doe and date is '07-08-2025 12:00'.you will give doctor_name and date as output\"\"\"\n",
    "    \n",
    "    system_prompt = ChatPromptTemplate.from_messages(\n",
    "    [(\"system\",prompt),\n",
    "      (\"human\",\"{question}\")]\n",
    "     )\n",
    "    fetcher = system_prompt | llm.with_structured_output(booking_cancel)\n",
    "    response = fetcher.invoke({\"question\":question})\n",
    "    doctor_name = response.doctor_name\n",
    "    date = response.date\n",
    "\n",
    "    ## for the check_availibilty_by_doctor i have doctor name and date in string format,id\n",
    "    ## i can put these both two values in this function and can retrieve the output\n",
    "    ## that output along with question will be sent to llm,so here we will be following the basic principle of RAG system\n",
    "\n",
    "    ## check_availibility_by_specialization.invoke({\"desired_date\": {\"date\":\"03-09-2024\"}, \"specialization\": \"general_dentist\"})\n",
    " \n",
    "    output = cancel_appointment.invoke({\"date\":{\"date\":date},\"doctor_name\":doctor_name,\"id_number\":{\"id\":int(user_id)}})\n",
    "\n",
    "    prompt_respond = \"\"\"You are a very intelligent and helpful assistant. \n",
    "You will be provided with a question and the data retrieved based on the question. \n",
    "You need to generate a response based on both the question and the data. \n",
    "First, understand both clearly, and then generate a concise and informative response.\"\"\"\n",
    "\n",
    "    system_prompt_2 = ChatPromptTemplate.from_messages([\n",
    "    (\"system\", prompt_respond),\n",
    "    (\"human\", \"Question: {question}\\nData: {data}\")\n",
    "    ] )\n",
    "\n",
    "    agent = system_prompt_2 | llm | StrOutputParser()\n",
    "    final_response = agent.invoke({\"question\": question, \"data\": output})\n",
    "\n",
    "    return {\"data\":output,\"final_response\": final_response}\n"
   ]
  },
  {
   "cell_type": "code",
   "execution_count": 38,
   "id": "db6bd858",
   "metadata": {},
   "outputs": [],
   "source": [
    "class booking_set(BaseModel): ## from the question we will be fetching doctor_name and date ,id from the state dict\n",
    "    doctor_name:str = Field(description=\"doctor name\")\n",
    "    date:str = Field(description= \"date \")"
   ]
  },
  {
   "cell_type": "code",
   "execution_count": 39,
   "id": "48fed078",
   "metadata": {},
   "outputs": [],
   "source": [
    "def booking_node_for_set(state:AgentState):\n",
    "    question = state.get(\"question\",None)\n",
    "    if question == None:\n",
    "        raise Exception(\"The question not found in booking_node_for_set\")\n",
    "    user_id = state.get(\"user_id\",None)\n",
    "    if user_id == None:\n",
    "        raise Exception(\"The user_id not found in booking_node_for_set\")\n",
    "    \n",
    "    \n",
    "    ## from this question we need to fetch out the doctor name and date\n",
    "    prompt = \"\"\"You are a helpfull and intelligent system,you will be given a question such that you need to extract \n",
    "    doctor name and date from the question .\n",
    "    for example:\n",
    "     for this question \"I want to set the booking with doctor john doe on 07-08-2025 13:00 \"\n",
    "        here doctor name is john doe and date is '07-08-2025 13:00'.you will give doctor_name and date as output\"\"\"\n",
    "    \n",
    "    system_prompt = ChatPromptTemplate.from_messages(\n",
    "    [(\"system\",prompt),\n",
    "      (\"human\",\"{question}\")]\n",
    "     )\n",
    "    fetcher = system_prompt | llm.with_structured_output(booking_cancel)\n",
    "    response = fetcher.invoke({\"question\":question})\n",
    "    doctor_name = response.doctor_name\n",
    "    date = response.date\n",
    "\n",
    "    ## for the check_availibilty_by_doctor i have doctor name and date in string format,id\n",
    "    ## i can put these both two values in this function and can retrieve the output\n",
    "    ## that output along with question will be sent to llm,so here we will be following the basic principle of RAG system\n",
    "\n",
    "    ## check_availibility_by_specialization.invoke({\"desired_date\": {\"date\":\"03-09-2024\"}, \"specialization\": \"general_dentist\"})\n",
    " \n",
    "    output = set_appointment.invoke({\"desired_date\":{\"date\":date},\"doctor_name\":doctor_name,\"id_number\":{\"id\":int(user_id)}})\n",
    "\n",
    "    prompt_respond = \"\"\"You are a very intelligent and helpful assistant. \n",
    "You will be provided with a question and the data retrieved based on the question. \n",
    "You need to generate a response based on both the question and the data. \n",
    "First, understand both clearly, and then generate a concise and informative response.\"\"\"\n",
    "\n",
    "    system_prompt_2 = ChatPromptTemplate.from_messages([\n",
    "    (\"system\", prompt_respond),\n",
    "    (\"human\", \"Question: {question}\\nData: {data}\")\n",
    "    ] )\n",
    "\n",
    "    agent = system_prompt_2 | llm | StrOutputParser()\n",
    "    final_response = agent.invoke({\"question\": question, \"data\": output})\n",
    "\n",
    "    return {\"data\":output,\"final_response\": final_response}\n"
   ]
  },
  {
   "cell_type": "code",
   "execution_count": 40,
   "id": "4296b269",
   "metadata": {},
   "outputs": [],
   "source": [
    "## same for rescheduling the appointment with the doctor\n",
    "class booking_reschedule(BaseModel): ## from the question we will be fetching doctor_name and date ,id from the state dict\n",
    "    doctor_name:str = Field(description=\"doctor name\")\n",
    "    new_date:str = Field(description= \" new date for appointment with the doctor\")\n",
    "    old_date:str = Field(description = \"old date of appointment with the doctor\")\n",
    "    "
   ]
  },
  {
   "cell_type": "code",
   "execution_count": 49,
   "id": "f9ea3652",
   "metadata": {},
   "outputs": [],
   "source": [
    "def booking_node_for_reschedule(state:AgentState):\n",
    "    question = state.get(\"question\",None)\n",
    "    if question == None:\n",
    "        raise Exception(\"The question not found in booking_node_for_reschedule\")\n",
    "    user_id = state.get(\"user_id\",None)\n",
    "    if user_id == None:\n",
    "        raise Exception(\"The user_id not found in booking_node_for_reschedule\")\n",
    "    \n",
    "    \n",
    "    ## from this question we need to fetch out the doctor name and date\n",
    "    prompt = \"\"\"You are a helpfull and intelligent system,you will be given a question such that you need to extract \n",
    "    doctor name and new date,old date  from the question .\n",
    "    for example:\n",
    "     for this question \"I want to reschedule the booking with doctor john doe on '07-08-2025 12:00' which was on '06-08-2025 11:00' \"\n",
    "        here doctor name is john doe ,new_date is '07-08-2025 12:00' and old_date is '06-08-2025 11:00' .you will give doctor_name and date as output\"\"\"\n",
    "    \n",
    "    system_prompt = ChatPromptTemplate.from_messages(\n",
    "    [(\"system\",prompt),\n",
    "      (\"human\",\"{question}\")]\n",
    "     )\n",
    "    fetcher = system_prompt | llm.with_structured_output(booking_reschedule)\n",
    "    response = fetcher.invoke({\"question\":question})\n",
    "    doctor_name = response.doctor_name\n",
    "    old_date = response.old_date\n",
    "    new_date = response.new_date\n",
    "\n",
    "    ## for the check_availibilty_by_doctor i have doctor name and date in string format,id\n",
    "    ## i can put these both two values in this function and can retrieve the output\n",
    "    ## that output along with question will be sent to llm,so here we will be following the basic principle of RAG system\n",
    "\n",
    "    ## check_availibility_by_specialization.invoke({\"desired_date\": {\"date\":\"03-09-2024\"}, \"specialization\": \"general_dentist\"})\n",
    " \n",
    "    output = reschedule_appointment.invoke({\"old_date\":{\"date\":old_date},\"new_date\":{\"date\":new_date},\"doctor_name\":doctor_name,\"id_number\":{\"id\":int(user_id)}})\n",
    "\n",
    "    prompt_respond = \"\"\"You are a very intelligent and helpful assistant. \n",
    "You will be provided with a question and the data retrieved based on the question. \n",
    "You need to generate a response based on both the question and the data. \n",
    "First, understand both clearly, and then generate a concise and informative response.\"\"\"\n",
    "\n",
    "    system_prompt_2 = ChatPromptTemplate.from_messages([\n",
    "    (\"system\", prompt_respond),\n",
    "    (\"human\", \"Question: {question}\\nData: {data}\")\n",
    "    ] )\n",
    "\n",
    "    agent = system_prompt_2 | llm | StrOutputParser()\n",
    "    final_response = agent.invoke({\"question\": question, \"data\": output})\n",
    "\n",
    "    return {\"data\":output,\"final_response\": final_response}"
   ]
  },
  {
   "cell_type": "code",
   "execution_count": 42,
   "id": "687b5b77",
   "metadata": {},
   "outputs": [],
   "source": [
    "## now i will be creating the graph\n",
    "from langgraph.graph import StateGraph,START,END\n",
    "from typing import List\n",
    "from typing_extensions import TypedDict"
   ]
  },
  {
   "cell_type": "code",
   "execution_count": 50,
   "id": "27abc862",
   "metadata": {},
   "outputs": [
    {
     "data": {
      "text/plain": [
       "<langgraph.graph.state.StateGraph at 0x245a75dd870>"
      ]
     },
     "execution_count": 50,
     "metadata": {},
     "output_type": "execute_result"
    }
   ],
   "source": [
    "workflow = StateGraph(AgentState)\n",
    "workflow.add_node(\"Supervisor\",Supervisor)\n",
    "workflow.add_node(\"information_node\",information_node)\n",
    "workflow.add_node(\"booking_node\",booking_node)\n",
    "workflow.add_node(\"information_node_by_doctor\",information_node_by_doctor)\n",
    "workflow.add_node(\"information_node_by_specialist\",information_node_by_specialist)\n",
    "workflow.add_node(\"booking_node_for_cancel\",booking_node_for_cancel)\n",
    "workflow.add_node(\"booking_node_for_set\",booking_node_for_set)\n",
    "workflow.add_node(\"booking_node_for_reschedule\",booking_node_for_reschedule)\n",
    "\n",
    "workflow.add_edge(START,\"Supervisor\")\n",
    "workflow.add_conditional_edges(\"Supervisor\",router,{\"information\":\"information_node\",\"booking\":\"booking_node\",\"end\":END})\n",
    "workflow.add_conditional_edges(\"information_node\",router_information,{\"by_doctor\":\"information_node_by_doctor\",\"by_specialization\":\"information_node_by_specialist\",\"end\":END})\n",
    "workflow.add_edge(\"information_node_by_doctor\",END)\n",
    "workflow.add_edge(\"information_node_by_specialist\",END)\n",
    "workflow.add_conditional_edges(\"booking_node\",router_booking,{\"set_booking\":\"booking_node_for_set\",\n",
    "\"cancel_booking\":\"booking_node_for_cancel\",\"reschedule_booking\":\"booking_node_for_reschedule\",\"end\":END})\n",
    "\n",
    "workflow.add_edge(\"booking_node_for_cancel\",END)\n",
    "workflow.add_edge(\"booking_node_for_set\",END)\n",
    "workflow.add_edge(\"booking_node_for_reschedule\",END)"
   ]
  },
  {
   "cell_type": "code",
   "execution_count": 51,
   "id": "00912b73",
   "metadata": {},
   "outputs": [],
   "source": [
    "app = workflow.compile()"
   ]
  },
  {
   "cell_type": "code",
   "execution_count": 45,
   "id": "7f6d7f28",
   "metadata": {},
   "outputs": [
    {
     "data": {
      "image/png": "[encoded data removed]",
      "text/plain": [
       "<IPython.core.display.Image object>"
      ]
     },
     "metadata": {},
     "output_type": "display_data"
    }
   ],
   "source": [
    "# Display the graph\n",
    "from IPython.display import Image, display # type: ignore\n",
    "display(Image(app.get_graph(xray=True).draw_mermaid_png()))"
   ]
  },
  {
   "cell_type": "code",
   "execution_count": null,
   "id": "475c68a1",
   "metadata": {},
   "outputs": [
    {
     "name": "stderr",
     "output_type": "stream",
     "text": [
      "d:\\Doctor_Appointment_System\\venv\\lib\\site-packages\\langchain_openai\\chat_models\\base.py:1669: UserWarning: Cannot use method='json_schema' with model gpt-4 since it doesn't support OpenAI's Structured Output API. You can see supported models here: https://platform.openai.com/docs/guides/structured-outputs#supported-models. To fix this warning, set `method='function_calling'. Overriding to method='function_calling'.\n",
      "  warnings.warn(\n",
      "d:\\Doctor_Appointment_System\\venv\\lib\\site-packages\\langchain_openai\\chat_models\\base.py:1669: UserWarning: Cannot use method='json_schema' with model gpt-4 since it doesn't support OpenAI's Structured Output API. You can see supported models here: https://platform.openai.com/docs/guides/structured-outputs#supported-models. To fix this warning, set `method='function_calling'. Overriding to method='function_calling'.\n",
      "  warnings.warn(\n"
     ]
    },
    {
     "data": {
      "text/plain": [
       "\"Based on the data provided, you don't currently have any bookings with Dr. John Doe on 08-08-2024 at 15:00. Therefore, there is no need to cancel any appointments. Please check the date and time of your booking to ensure its accuracy.\""
      ]
     },
     "execution_count": 54,
     "metadata": {},
     "output_type": "execute_result"
    }
   ],
   "source": [
    "question = \"I want to cancel session with doctor john doe on 08-08-2024 15:00 \"\n",
    "inputs = {\"question\":question,\"user_id\":1000097.0}\n",
    "app.invoke(inputs)[\"final_response\"]\n"
   ]
  },
  {
   "cell_type": "code",
   "execution_count": 52,
   "id": "97ab76b7",
   "metadata": {},
   "outputs": [
    {
     "name": "stderr",
     "output_type": "stream",
     "text": [
      "d:\\Doctor_Appointment_System\\venv\\lib\\site-packages\\langchain_openai\\chat_models\\base.py:1669: UserWarning: Cannot use method='json_schema' with model gpt-4 since it doesn't support OpenAI's Structured Output API. You can see supported models here: https://platform.openai.com/docs/guides/structured-outputs#supported-models. To fix this warning, set `method='function_calling'. Overriding to method='function_calling'.\n",
      "  warnings.warn(\n",
      "d:\\Doctor_Appointment_System\\venv\\lib\\site-packages\\langchain_openai\\chat_models\\base.py:1669: UserWarning: Cannot use method='json_schema' with model gpt-4 since it doesn't support OpenAI's Structured Output API. You can see supported models here: https://platform.openai.com/docs/guides/structured-outputs#supported-models. To fix this warning, set `method='function_calling'. Overriding to method='function_calling'.\n",
      "  warnings.warn(\n"
     ]
    },
    {
     "data": {
      "text/plain": [
       "{'question': 'I want to reschedule  session with doctor john doe on  08-08-2024 10:00 which was held on 08-08-2024 10:30',\n",
       " 'user_id': 1000030.0,\n",
       " 'next': 'booking',\n",
       " 'booking_respond': 'reschedule_booking',\n",
       " 'data': 'Successfully rescheduled for the desired time',\n",
       " 'final_response': 'Your session with Doctor John Doe has been successfully rescheduled from 10:30 AM to 10:00 AM on 08-08-2024.'}"
      ]
     },
     "execution_count": 52,
     "metadata": {},
     "output_type": "execute_result"
    }
   ],
   "source": [
    "question = \"I want to reschedule  session with doctor john doe on  08-08-2024 10:00 which was held on 08-08-2024 10:30\"\n",
    "inputs = {\"question\":question,\"user_id\":1000030.0}\n",
    "app.invoke(inputs)"
   ]
  },
  {
   "cell_type": "code",
   "execution_count": null,
   "id": "90cc24ef",
   "metadata": {},
   "outputs": [],
   "source": []
  },
  {
   "cell_type": "code",
   "execution_count": null,
   "id": "3d50f42c",
   "metadata": {},
   "outputs": [],
   "source": []
  },
  {
   "cell_type": "code",
   "execution_count": null,
   "id": "8a3d1311",
   "metadata": {},
   "outputs": [],
   "source": []
  }
 ],
 "metadata": {
  "kernelspec": {
   "display_name": "Python 3",
   "language": "python",
   "name": "python3"
  },
  "language_info": {
   "codemirror_mode": {
    "name": "ipython",
    "version": 3
   },
   "file_extension": ".py",
   "mimetype": "text/x-python",
   "name": "python",
   "nbconvert_exporter": "python",
   "pygments_lexer": "ipython3",
   "version": "3.10.0"
  }
 },
 "nbformat": 4,
 "nbformat_minor": 5
}
